{
 "cells": [
  {
   "cell_type": "code",
   "execution_count": 21,
   "id": "d892c08d",
   "metadata": {},
   "outputs": [],
   "source": [
    "from google_play_scraper import Sort, reviews\n",
    "from google_play_scraper import reviews_all\n",
    "import pandas as pd\n",
    "from datetime import datetime\n",
    "import os"
   ]
  },
  {
   "cell_type": "code",
   "execution_count": 2,
   "id": "7fbf38cd",
   "metadata": {},
   "outputs": [],
   "source": [
    "apps = {\n",
    "    \"CBE\": \"com.combanketh.mobilebanking\",\n",
    "    \"BOA\": \"com.boa.boaMobileBanking\",\n",
    "    \"Dashen Bank\": \"com.dashen.dashensuperapp\"\n",
    "}"
   ]
  },
  {
   "cell_type": "code",
   "execution_count": 10,
   "id": "6da78b18",
   "metadata": {},
   "outputs": [],
   "source": [
    "def clean_text(text):\n",
    "    \"\"\"Basic cleaning of review text.\"\"\"\n",
    "    if not isinstance(text, str):\n",
    "        return \"\"\n",
    "    # Add more cleaning steps here if needed\n",
    "    return text.strip()\n"
   ]
  },
  {
   "cell_type": "code",
   "execution_count": 14,
   "id": "5628edd6",
   "metadata": {},
   "outputs": [],
   "source": [
    "def preprocess_reviews(app_id, bank_name):\n",
    "    print(f\"Scraping reviews for {bank_name}...\")\n",
    "\n",
    "    # Scrape all reviews\n",
    "    reviews = reviews_all(app_id)\n",
    "    \n",
    "    # Convert to DataFrame\n",
    "    df = pd.DataFrame(reviews)\n",
    "\n",
    "    # Rename and select columns\n",
    "    df = df.rename(columns={\n",
    "        \"content\": \"review\",\n",
    "        \"score\": \"rating\",\n",
    "        \"at\": \"date\"\n",
    "    })[[\"review\", \"rating\", \"date\"]]\n",
    "    \n",
    "    # Clean and preprocess\n",
    "    df[\"review\"] = df[\"review\"].astype(str).apply(clean_text)\n",
    "    df[\"review_length\"] = df[\"review\"].apply(len)\n",
    "    \n",
    "    # Remove duplicates\n",
    "    df.drop_duplicates(subset=[\"review\"], inplace=True)\n",
    "\n",
    "    # Drop missing or very short reviews\n",
    "    df.dropna(subset=[\"review\", \"rating\"], inplace=True)\n",
    "    df = df[df[\"review_length\"] > 2]\n",
    "\n",
    "    # Normalize date format\n",
    "    df[\"date\"] = df[\"date\"].apply(lambda x: x.strftime(\"%Y-%m-%d\") if pd.notnull(x) else None)\n",
    "\n",
    "    # Add metadata\n",
    "    df[\"bank\"] = bank_name\n",
    "    df[\"source\"] = \"Google Play Store\""
   ]
  },
  {
   "cell_type": "code",
   "execution_count": 18,
   "id": "031bb8cb",
   "metadata": {},
   "outputs": [],
   "source": [
    "def preprocess_reviews(app_id, bank_name):\n",
    "    print(f\"Scraping reviews for {bank_name}...\")\n",
    "\n",
    "    # Scrape reviews\n",
    "    reviews = reviews_all(app_id)\n",
    "\n",
    "    # Convert to DataFrame\n",
    "    df = pd.DataFrame(reviews)\n",
    "\n",
    "    # Rename and select columns\n",
    "    df = df.rename(columns={\n",
    "        \"content\": \"review\",\n",
    "        \"score\": \"rating\",\n",
    "        \"at\": \"date\"\n",
    "    })[[\"review\", \"rating\", \"date\"]]\n",
    "\n",
    "    # Clean and preprocess\n",
    "    df[\"review\"] = df[\"review\"].astype(str).apply(clean_text)\n",
    "    df[\"review_length\"] = df[\"review\"].apply(len)\n",
    "\n",
    "    # Remove duplicates and short reviews\n",
    "    df.drop_duplicates(subset=[\"review\"], inplace=True)\n",
    "    df.dropna(subset=[\"review\", \"rating\"], inplace=True)\n",
    "    df = df[df[\"review_length\"] > 2]\n",
    "\n",
    "    # Format dates\n",
    "    df[\"date\"] = df[\"date\"].apply(lambda x: x.strftime(\"%Y-%m-%d\") if pd.notnull(x) else None)\n",
    "\n",
    "    # Add metadata\n",
    "    df[\"bank\"] = bank_name\n",
    "    df[\"source\"] = \"Google Play Store\"\n",
    "\n",
    "    # Ensure we have at most 400 reviews\n",
    "    count = len(df)\n",
    "    if count < 400:\n",
    "        print(f\"⚠️ Warning: Only {count} valid reviews scraped for {bank_name}.\")\n",
    "    else:\n",
    "        df = df.head(400)\n",
    "        print(f\"✅ Collected 400 reviews for {bank_name}.\")\n",
    "\n",
    "    # Save to CSV\n",
    "    filename = f\"data/{bank_name}_reviews_cleaned.csv\"\n",
    "    df.to_csv(filename, index=False)\n",
    "    print(f\"💾 Saved cleaned reviews to {filename}\\n\")\n",
    "    return df\n"
   ]
  },
  {
   "cell_type": "code",
   "execution_count": 23,
   "id": "13901386",
   "metadata": {},
   "outputs": [
    {
     "name": "stdout",
     "output_type": "stream",
     "text": [
      "Scraping reviews for CBE...\n",
      "✅ Collected 400 reviews for CBE.\n",
      "💾 Saved cleaned reviews to data/CBE_reviews_cleaned.csv\n",
      "\n",
      "Scraping reviews for BOA...\n",
      "✅ Collected 400 reviews for BOA.\n",
      "💾 Saved cleaned reviews to data/BOA_reviews_cleaned.csv\n",
      "\n",
      "Scraping reviews for Dashen Bank...\n",
      "✅ Collected 400 reviews for Dashen Bank.\n",
      "💾 Saved cleaned reviews to data/Dashen Bank_reviews_cleaned.csv\n",
      "\n",
      "✅ Saved combined cleaned reviews for all banks to data/all_banks_reviews_cleaned.csv\n"
     ]
    }
   ],
   "source": [
    "def main():\n",
    "    all_dfs = []\n",
    "    for bank_name, app_id in apps.items():\n",
    "        df = preprocess_reviews(app_id, bank_name)\n",
    "        all_dfs.append(df)\n",
    "\n",
    "    # Combine all reviews\n",
    "    combined_df = pd.concat(all_dfs, ignore_index=True)\n",
    "    combined_df.to_csv(\"data/all_banks_reviews_cleaned.csv\", index=False)\n",
    "    print(\"✅ Saved combined cleaned reviews for all banks to data/all_banks_reviews_cleaned.csv\")\n",
    "\n",
    "if __name__ == \"__main__\":\n",
    "    main()"
   ]
  }
 ],
 "metadata": {
  "kernelspec": {
   "display_name": "Python 3",
   "language": "python",
   "name": "python3"
  },
  "language_info": {
   "codemirror_mode": {
    "name": "ipython",
    "version": 3
   },
   "file_extension": ".py",
   "mimetype": "text/x-python",
   "name": "python",
   "nbconvert_exporter": "python",
   "pygments_lexer": "ipython3",
   "version": "3.13.3"
  }
 },
 "nbformat": 4,
 "nbformat_minor": 5
}
