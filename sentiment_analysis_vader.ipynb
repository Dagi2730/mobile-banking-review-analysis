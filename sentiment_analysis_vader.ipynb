{
 "cells": [
  {
   "cell_type": "code",
   "execution_count": 8,
   "id": "b0fb234b",
   "metadata": {},
   "outputs": [],
   "source": [
    "import os\n",
    "import pandas as pd\n",
    "from vaderSentiment.vaderSentiment import SentimentIntensityAnalyzer\n"
   ]
  },
  {
   "cell_type": "code",
   "execution_count": 9,
   "id": "e6213afb",
   "metadata": {},
   "outputs": [],
   "source": [
    "# Create processed folder if not exists\n",
    "os.makedirs(\"data/processed\", exist_ok=True)\n",
    "\n",
    "# Initialize VADER\n",
    "analyzer = SentimentIntensityAnalyzer()\n"
   ]
  },
  {
   "cell_type": "code",
   "execution_count": 10,
   "id": "87a7dd6c",
   "metadata": {},
   "outputs": [],
   "source": [
    "# Function to compute sentiment scores\n",
    "def compute_sentiment(text):\n",
    "    scores = analyzer.polarity_scores(str(text))\n",
    "    return pd.Series([scores['neg'], scores['neu'], scores['pos'], scores['compound']])\n"
   ]
  },
  {
   "cell_type": "code",
   "execution_count": 30,
   "id": "f1ffdeae",
   "metadata": {},
   "outputs": [],
   "source": [
    "# Define file paths for each bank with exact file names\n",
    "banks = {\n",
    "    \"dashen\": \"notebooks/data/Dashen Bank_reviews_cleaned.csv\",\n",
    "    \"cbe\": \"notebooks/data/CBE_reviews_cleaned.csv\",\n",
    "    \"boa\": \"notebooks/data/BOA_reviews_cleaned.csv\"\n",
    "}\n"
   ]
  },
  {
   "cell_type": "code",
   "execution_count": 31,
   "id": "1ee1296e",
   "metadata": {},
   "outputs": [
    {
     "name": "stdout",
     "output_type": "stream",
     "text": [
      "[✔] Saved sentiment analysis for Dashen to data/processed/dashen_reviews_sentiment.csv\n",
      "[✔] Saved sentiment analysis for Cbe to data/processed/cbe_reviews_sentiment.csv\n",
      "[✔] Saved sentiment analysis for Boa to data/processed/boa_reviews_sentiment.csv\n"
     ]
    }
   ],
   "source": [
    "# Apply sentiment analysis to each file and save result\n",
    "for bank, filepath in banks.items():\n",
    "    try:\n",
    "        df = pd.read_csv(filepath)\n",
    "        # Check if 'review' column exists, else raise meaningful error\n",
    "        if 'review' not in df.columns:\n",
    "            raise KeyError(f\"'review' column not found in {filepath}\")\n",
    "        \n",
    "        df[['neg', 'neu', 'pos', 'compound']] = df['review'].apply(compute_sentiment)\n",
    "        df['sentiment'] = df['compound'].apply(\n",
    "            lambda score: 'positive' if score >= 0.05 else 'negative' if score <= -0.05 else 'neutral'\n",
    "        )\n",
    "        output_file = f\"data/processed/{bank}_reviews_sentiment.csv\"\n",
    "        df.to_csv(output_file, index=False)\n",
    "        print(f\"[✔] Saved sentiment analysis for {bank.title()} to {output_file}\")\n",
    "    except Exception as e:\n",
    "        print(f\"[✘] Failed to process {bank.title()}: {e}\")\n"
   ]
  }
 ],
 "metadata": {
  "kernelspec": {
   "display_name": "Python 3",
   "language": "python",
   "name": "python3"
  },
  "language_info": {
   "codemirror_mode": {
    "name": "ipython",
    "version": 3
   },
   "file_extension": ".py",
   "mimetype": "text/x-python",
   "name": "python",
   "nbconvert_exporter": "python",
   "pygments_lexer": "ipython3",
   "version": "3.10.11"
  }
 },
 "nbformat": 4,
 "nbformat_minor": 5
}
